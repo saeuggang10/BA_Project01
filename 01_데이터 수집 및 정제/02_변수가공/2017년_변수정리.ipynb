{
 "cells": [
  {
   "cell_type": "code",
   "execution_count": 1,
   "id": "d8f6bae4",
   "metadata": {
    "ExecuteTime": {
     "end_time": "2023-06-19T04:20:08.608771Z",
     "start_time": "2023-06-19T04:20:07.010078Z"
    }
   },
   "outputs": [],
   "source": [
    "### 사전준비\n",
    "import pandas as pd\n",
    "import os\n",
    "import matplotlib.pyplot as plt\n",
    "import seaborn as sns\n",
    "import numpy as np \n",
    "from matplotlib import font_manager, rc\n",
    "import platform\n",
    "import json\n",
    "import folium\n",
    "if platform.system() == \"Windows\" :\n",
    "    path = \"c:/Windows/Fonts/Malgun.ttf\"\n",
    "    font_name = font_manager.FontProperties(fname = path).get_name()\n",
    "    rc(\"font\", family = font_name)\n",
    "elif platform.system() == \"Drawin\" :\n",
    "    rc(\"font\",family = \"AppleGothic\")\n",
    "else :\n",
    "    print(\"check your OS system...\")\n",
    "plt.rcParams[\"axes.unicode_minus\"] = False\n",
    "from bs4 import BeautifulSoup\n",
    "import requests\n",
    "from openpyxl.workbook import Workbook\n",
    "from selenium import webdriver\n",
    "from selenium.webdriver.common.by import By\n",
    "import time\n",
    "import re\n",
    "import random"
   ]
  },
  {
   "cell_type": "code",
   "execution_count": 2,
   "id": "f642b9f1",
   "metadata": {
    "ExecuteTime": {
     "end_time": "2023-06-19T04:20:09.352087Z",
     "start_time": "2023-06-19T04:20:08.609770Z"
    },
    "scrolled": true
   },
   "outputs": [],
   "source": [
    "df = pd.read_excel(\"./데이터_변수정리_찐최종본.xlsx\",\n",
    "                   header =1, usecols=[1,6,14], names = ['val1', 'val2', 'val3'])\n",
    "\n",
    "# 17년도 데이터 프레임 불러오기\n",
    "val_lis = list(df['val2'].dropna(axis = 0))\n",
    "val_lis2 = []\n",
    "\n",
    "for val in val_lis:\n",
    "    if 'yq9a' in val:\n",
    "        temp = ['yq9a{}'.format(str(i).zfill(2)) for i in range(1, 18)]\n",
    "        temp = temp+['yq9a97', 'yq9a99']\n",
    "        \n",
    "    elif '~' in val:\n",
    "        text = re.compile('[0-9]~').search(val).start()\n",
    "        i_start = re.compile('[0-9]{0,3}$').search(val).start()\n",
    "        i_end = re.compile('[0-9]{0,3}$').search(val).end()\n",
    "        ran = val[int(i_start):int(i_end)]\n",
    "        for i in range(1,int(ran)+1):\n",
    "            val_lis2.append('{}{}'.format(val[:text],i))\n",
    "            \n",
    "    else:\n",
    "        val_lis2.append(val)\n",
    "\n",
    "val_lis2 = val_lis2+temp\n",
    "\n",
    "df17 = pd.read_csv(\"../01_raw데이터/2017년_원자료.csv\").loc[:,val_lis2]\n",
    "\n",
    "# 18년도 데이터 프레임 불러오기\n",
    "val_lis = list(df['val3'].dropna(axis = 0))\n",
    "val_lis2 = []\n",
    "\n",
    "for val in val_lis:\n",
    "    if '~' in val:\n",
    "        text = re.compile('[0-9]~').search(val).start()\n",
    "        i_start = re.compile('[a-zA-Z][0-9]{0,3}$').search(val).start()+1\n",
    "        i_end = re.compile('[a-zA-Z][0-9]{0,3}$').search(val).end()\n",
    "        ran = val[int(i_start):int(i_end)]\n",
    "        for i in range(1,int(ran)+1):\n",
    "            val_lis2.append('{}{}'.format(val[:text],i))\n",
    "            \n",
    "    else:\n",
    "        val_lis2.append(val)\n",
    "\n",
    "df18 = pd.read_csv(\"../01_raw데이터/2018년_원자료.csv\").loc[:,val_lis2]\n",
    "\n",
    "# 19년도 데이터 프레임 불러오기\n",
    "val_lis = list(df['val1'].dropna(axis = 0))\n",
    "val_lis2 = []\n",
    "\n",
    "for val in val_lis:\n",
    "    if '~' in val:\n",
    "        text = re.compile('[0-9]~').search(val).start()\n",
    "        i_start = re.compile('[a-zA-Z][0-9]{0,3}$').search(val).start()+1\n",
    "        i_end = re.compile('[a-zA-Z][0-9]{0,3}$').search(val).end()\n",
    "        ran = val[int(i_start):int(i_end)]\n",
    "        for i in range(1,int(ran)+1):\n",
    "            val_lis2.append('{}{}'.format(val[:text],i))\n",
    "            \n",
    "    else:\n",
    "        val_lis2.append(val)\n",
    "\n",
    "df19 = pd.read_csv(\"../01_raw데이터/2019년_원자료.csv\").loc[:,val_lis2]"
   ]
  },
  {
   "cell_type": "code",
   "execution_count": 3,
   "id": "f5fba9a1",
   "metadata": {
    "ExecuteTime": {
     "end_time": "2023-06-19T04:20:09.366891Z",
     "start_time": "2023-06-19T04:20:09.354048Z"
    }
   },
   "outputs": [],
   "source": [
    "# 최초방문인 관광객들 1회방문 넣어주기\n",
    "df17[\"wq1a\"].fillna(1,inplace=True)"
   ]
  },
  {
   "cell_type": "code",
   "execution_count": 4,
   "id": "71f95475",
   "metadata": {
    "ExecuteTime": {
     "end_time": "2023-06-19T04:20:09.382413Z",
     "start_time": "2023-06-19T04:20:09.368327Z"
    }
   },
   "outputs": [],
   "source": [
    "# 응답항목 기준에 맞게 바꿔주기\n",
    "df17[[\"q5a1\",\"q5a2\",\"q5a3\"]] = df17[[\"q5a1\",\"q5a2\",\"q5a3\"]].replace({1:3,2:2,3:4,4:1,5:7,6:7,7:5,8:3,9:12,10:11,11:13,12:13,13:6,14:8,15:8,16:10,17:13})"
   ]
  },
  {
   "cell_type": "code",
   "execution_count": 5,
   "id": "417fd2b5",
   "metadata": {
    "ExecuteTime": {
     "end_time": "2023-06-19T04:20:09.429554Z",
     "start_time": "2023-06-19T04:20:09.384376Z"
    }
   },
   "outputs": [],
   "source": [
    "# 1~10까지 나눠줄 4번을 빼고 바꿀 값으로 바꿔주기\n",
    "df17[[\"q8a1\",\"q8a2\",\"q8a3\"]] = df17[[\"q8a1\",\"q8a2\",\"q8a3\"]].replace(4,\"n\")\n",
    "df17[[\"q8a1\",\"q8a2\",\"q8a3\"]] = df17[[\"q8a1\",\"q8a2\",\"q8a3\"]].replace({1:2,2:1,3:9,5:9,6:9,7:8,8:8,9:8,10:10,11:10,12:11,13:13,14:12,15:11,16:11,17:4,18:3,19:5,20:6,21:14,22:5,23:14})"
   ]
  },
  {
   "cell_type": "code",
   "execution_count": 6,
   "id": "41351c6b",
   "metadata": {
    "ExecuteTime": {
     "end_time": "2023-06-19T04:20:09.444776Z",
     "start_time": "2023-06-19T04:20:09.431594Z"
    }
   },
   "outputs": [],
   "source": [
    "# 랜덤할당\n",
    "import random\n",
    "\n",
    "def ratelist(row_name, val_rmd):\n",
    "    li = []\n",
    "    \n",
    "    if row_name == 'Q9_2A1':\n",
    "        dic = {1.0:0.318198, 2.0:0.214775, 3.0:0.134685, 10.0:0.101622,\n",
    "                4.0:0.092523, 6.0:0.064324, 5.0:0.034054,7.0:0.017477,\n",
    "                8.0:0.013423, 9.0:0.008919}\n",
    "    elif row_name == 'Q9_2A2':\n",
    "        dic = {2.0:0.328732,1.0:0.192887,3.0:0.145144,4.0:0.110057,\n",
    "                10.0:0.072189,5.0:0.066053,7.0:0.031636,6.0:0.030678,\n",
    "                8.0:0.011888,9.0:0.010737}\n",
    "    else:\n",
    "        dic = {3.0:0.176084,2.0:0.157057,1.0:0.156711,4.0:0.129958,\n",
    "                10.0:0.127076,5.0:0.111624,6.0:0.054659,7.0:0.047970,\n",
    "                8.0:0.024331,9.0:0.014530}\n",
    "    \n",
    "    rate = list(dic.values())\n",
    "    total = len(df17[df17[row_name]==\"n\"])\n",
    "    count=0\n",
    "\n",
    "    for i in range(1,11):\n",
    "        num = int(round(dic[i],len(str(total)))*total)\n",
    "        count+=num\n",
    "        for j in range(0, num):\n",
    "            li.append(i)\n",
    "            \n",
    "    if count != total:\n",
    "        for k in range(0,total-count):\n",
    "            li.append(int(list(dic.keys())[0]))\n",
    "            \n",
    "    random.shuffle(li)\n",
    "    \n",
    "    for l, m in zip(range(0,len(li)), df17[df17[row_name]==val_rmd].index):\n",
    "        df17.loc[m,row_name] = li[l]"
   ]
  },
  {
   "cell_type": "code",
   "execution_count": 7,
   "id": "bf08c38a",
   "metadata": {
    "ExecuteTime": {
     "end_time": "2023-06-19T04:20:09.506132Z",
     "start_time": "2023-06-19T04:20:09.446793Z"
    }
   },
   "outputs": [],
   "source": [
    "# 4번(\"n\") 비율별로 나눠주기\n",
    "ratelist(\"q8a1\",\"n\")\n",
    "ratelist(\"q8a2\",\"n\")\n",
    "ratelist(\"q8a3\",\"n\")"
   ]
  },
  {
   "cell_type": "code",
   "execution_count": 8,
   "id": "ea4dfc6c",
   "metadata": {
    "ExecuteTime": {
     "end_time": "2023-06-19T04:20:09.522187Z",
     "start_time": "2023-06-19T04:20:09.507034Z"
    }
   },
   "outputs": [
    {
     "data": {
      "text/plain": [
       "q8a3\n",
       "2     2218\n",
       "1     1737\n",
       "8     1522\n",
       "3     1481\n",
       "4     1398\n",
       "5      769\n",
       "6      675\n",
       "9      551\n",
       "10     352\n",
       "14     320\n",
       "11     242\n",
       "12     136\n",
       "13      91\n",
       "7       26\n",
       "Name: count, dtype: int64"
      ]
     },
     "execution_count": 8,
     "metadata": {},
     "output_type": "execute_result"
    }
   ],
   "source": [
    "df17[\"q8a3\"].value_counts()"
   ]
  },
  {
   "cell_type": "code",
   "execution_count": 9,
   "id": "c06bbc2e",
   "metadata": {
    "ExecuteTime": {
     "end_time": "2023-06-19T04:20:09.538222Z",
     "start_time": "2023-06-19T04:20:09.525146Z"
    }
   },
   "outputs": [
    {
     "data": {
      "text/plain": [
       "0"
      ]
     },
     "execution_count": 9,
     "metadata": {},
     "output_type": "execute_result"
    }
   ],
   "source": [
    "col = ['yq9a{}'.format(str(i).zfill(2)) for i in range(1,18)]\n",
    "(df17.loc[df17[\"yq9a97\"]==97,col].isnull().sum(axis=1) ==17).sum()"
   ]
  },
  {
   "cell_type": "code",
   "execution_count": 10,
   "id": "1daef031",
   "metadata": {
    "ExecuteTime": {
     "end_time": "2023-06-19T04:20:09.553349Z",
     "start_time": "2023-06-19T04:20:09.540175Z"
    }
   },
   "outputs": [],
   "source": [
    "# 방문지역(17개시도) 무응답 및 기타 삭제(사유: 없거나 미미한 수치)\n",
    "del df17[\"yq9a97\"]\n",
    "del df17[\"yq9a99\"]"
   ]
  },
  {
   "cell_type": "code",
   "execution_count": 11,
   "id": "96a1b321",
   "metadata": {
    "ExecuteTime": {
     "end_time": "2023-06-19T04:20:09.568824Z",
     "start_time": "2023-06-19T04:20:09.555332Z"
    }
   },
   "outputs": [],
   "source": [
    "# 결측치가 있는 항목(숙박비,거주국 지불경비) 0으로 채움\n",
    "df17[[\"mtzq19a1\",\"mtzq19a2\"]] = df17[[\"mtzq19a1\",\"mtzq19a2\"]].fillna(0)"
   ]
  },
  {
   "cell_type": "code",
   "execution_count": 12,
   "id": "73c9da88",
   "metadata": {
    "ExecuteTime": {
     "end_time": "2023-06-19T04:20:09.584134Z",
     "start_time": "2023-06-19T04:20:09.570807Z"
    }
   },
   "outputs": [],
   "source": [
    "# 19년도처럼 문화+오락 비용 합치기\n",
    "df17[\"mtzq19a6+8\"] = df17[\"mtzq19a6\"]+df17[\"mtzq19a8\"]"
   ]
  },
  {
   "cell_type": "code",
   "execution_count": 13,
   "id": "f243a423",
   "metadata": {
    "ExecuteTime": {
     "end_time": "2023-06-19T04:20:11.289275Z",
     "start_time": "2023-06-19T04:20:09.585050Z"
    }
   },
   "outputs": [],
   "source": [
    "# 금액 수치를 19년도의 범주에 맞춰 변경\n",
    "for c in [\"mtzq19a1\",\"mtzq19a2\"] :\n",
    "    for i in range(len(df17)) :\n",
    "        if df17.loc[i,c] <= 100 :\n",
    "            df17.loc[i,c] = 1\n",
    "        elif df17.loc[i,c] > 100 and df17.loc[i,c] <= 200 :\n",
    "            df17.loc[i,c] = 2\n",
    "        elif df17.loc[i,c] > 200 and df17.loc[i,c] <= 500 :\n",
    "            df17.loc[i,c] = 3\n",
    "        elif df17.loc[i,c] > 500 and df17.loc[i,c] <= 1000 :\n",
    "            df17.loc[i,c] = 4\n",
    "        elif df17.loc[i,c] > 1000 and df17.loc[i,c] <= 10000 :\n",
    "            df17.loc[i,c] = 5\n",
    "        elif df17.loc[i,c] > 10000 :\n",
    "            df17.loc[i,c] = 98"
   ]
  },
  {
   "cell_type": "code",
   "execution_count": 14,
   "id": "e7caf642",
   "metadata": {
    "ExecuteTime": {
     "end_time": "2023-06-19T04:20:13.174818Z",
     "start_time": "2023-06-19T04:20:11.290708Z"
    }
   },
   "outputs": [],
   "source": [
    "for c in [\"mtzq19a3\",\"mtzq19a5\"] :\n",
    "    for i in range(len(df17)) :\n",
    "        if df17.loc[i,c] <= 50 :\n",
    "            df17.loc[i,c] = 1\n",
    "        elif df17.loc[i,c] > 50 and df17.loc[i,c] <= 100 :\n",
    "            df17.loc[i,c] = 2\n",
    "        elif df17.loc[i,c] > 100 and df17.loc[i,c] <= 200 :\n",
    "            df17.loc[i,c] = 3\n",
    "        elif df17.loc[i,c] > 200 and df17.loc[i,c] <= 500 :\n",
    "            df17.loc[i,c] = 4\n",
    "        elif df17.loc[i,c] > 500 and df17.loc[i,c] <= 10000 :\n",
    "            df17.loc[i,c] = 5\n",
    "        elif df17.loc[i,c] > 10000 :\n",
    "            df17.loc[i,c] = 98"
   ]
  },
  {
   "cell_type": "code",
   "execution_count": 15,
   "id": "32e3e5af",
   "metadata": {
    "ExecuteTime": {
     "end_time": "2023-06-19T04:20:19.062604Z",
     "start_time": "2023-06-19T04:20:13.176773Z"
    }
   },
   "outputs": [],
   "source": [
    "for c in [\"mtzq19a4\",\"mtzq19a7\",\"mtzq19a10\",\"mtzq19a6+8\"] :\n",
    "    for i in range(len(df17)) :\n",
    "        if df17.loc[i,c] == 0 :\n",
    "            df17.loc[i,c] = 1\n",
    "        elif df17.loc[i,c] > 0 and df17.loc[i,c] <= 30 :\n",
    "            df17.loc[i,c] = 2\n",
    "        elif df17.loc[i,c] > 30 and df17.loc[i,c] <= 100 :\n",
    "            df17.loc[i,c] = 3\n",
    "        elif df17.loc[i,c] > 100 and df17.loc[i,c] <= 10000 :\n",
    "            df17.loc[i,c] = 4\n",
    "        elif df17.loc[i,c] > 10000 :\n",
    "            df17.loc[i,c] = 5"
   ]
  },
  {
   "cell_type": "code",
   "execution_count": 16,
   "id": "2c9351bb",
   "metadata": {
    "ExecuteTime": {
     "end_time": "2023-06-19T04:20:19.077924Z",
     "start_time": "2023-06-19T04:20:19.064682Z"
    }
   },
   "outputs": [],
   "source": [
    "# 방문목적을 19년도의 범주에 맞게 변경\n",
    "df17[[\"q5\"]] = df17[[\"q5\"]].replace({1:1,2:6,3:5,4:1,5:2,6:3,7:4,8:6})"
   ]
  },
  {
   "cell_type": "code",
   "execution_count": 17,
   "id": "f356fff9",
   "metadata": {
    "ExecuteTime": {
     "end_time": "2023-06-19T04:20:38.998240Z",
     "start_time": "2023-06-19T04:20:19.080955Z"
    }
   },
   "outputs": [],
   "source": [
    "# 방문지의 값을 한글로 변경\n",
    "file_path = \"./데이터_변수정리_찐최종본.xlsx\"\n",
    "df17_val = pd.read_excel(file_path,\\\n",
    "                           usecols = 'A : B', sheet_name = '17년여행지변수명')\n",
    "df18_val = pd.read_excel(file_path,\\\n",
    "                           usecols = 'A : B', sheet_name = '18년여행지변수명')\n",
    "df19_val = pd.read_excel(file_path,\\\n",
    "                           usecols = 'A : B', sheet_name = '19년여행지변수명')\n",
    "\n",
    "for i in range(813) : # 17년여행지변수명의 row 갯수가 813개\n",
    "    df17 = df17.replace({'q11a1' : df17_val.loc[i, '변수명']}, df17_val.loc[i, '변수내용'])\n",
    "    df17 = df17.replace({'q11a2' : df17_val.loc[i, '변수명']}, df17_val.loc[i, '변수내용'])\n",
    "    df17 = df17.replace({'q11a3' : df17_val.loc[i, '변수명']}, df17_val.loc[i, '변수내용'])\n",
    "    \n",
    "for j in range(357) : # 18년여행지변수명의 row 갯수가 357개\n",
    "    df18 = df18.replace({'Q11A1' : df18_val.loc[j, '변수명']}, df18_val.loc[j, '변수내용'])\n",
    "    df18 = df18.replace({'Q11A2' : df18_val.loc[j, '변수명']}, df18_val.loc[j, '변수내용'])\n",
    "    df18 = df18.replace({'Q11A3' : df18_val.loc[j, '변수명']}, df18_val.loc[j, '변수내용'])\n",
    "    \n",
    "for k in range(365) : # 19년여행지변수명의 row 갯수가 365개\n",
    "    df19 = df19.replace({'Q10_2A1' : df19_val.loc[k, '변수명']}, df19_val.loc[k, '변수내용'])\n",
    "    df19 = df19.replace({'Q10_2A2' : df19_val.loc[k, '변수명']}, df19_val.loc[k, '변수내용'])\n",
    "    df19 = df19.replace({'Q10_2A3' : df19_val.loc[k, '변수명']}, df19_val.loc[k, '변수내용'])"
   ]
  },
  {
   "cell_type": "code",
   "execution_count": 18,
   "id": "9d3731c8",
   "metadata": {
    "ExecuteTime": {
     "end_time": "2023-06-19T04:20:39.013230Z",
     "start_time": "2023-06-19T04:20:39.000269Z"
    }
   },
   "outputs": [],
   "source": [
    "# 연령대가 9번(기타)인 값들 제거\n",
    "df_2017 = df17[df17[\"age\"] != 9].reset_index(drop = True)"
   ]
  },
  {
   "cell_type": "code",
   "execution_count": 19,
   "id": "26499e08",
   "metadata": {
    "ExecuteTime": {
     "end_time": "2023-06-19T04:20:39.060940Z",
     "start_time": "2023-06-19T04:20:39.015191Z"
    }
   },
   "outputs": [],
   "source": [
    "# 만족도의 9번(해당 없음)을 19년도처럼 0번으로 교체\n",
    "for i in range(10) :\n",
    "    df_2017 = df_2017.replace({f'q13a{str(i + 1).zfill(2)}' : 9.0}, 0)"
   ]
  },
  {
   "cell_type": "code",
   "execution_count": 20,
   "id": "f2e944c0",
   "metadata": {
    "ExecuteTime": {
     "end_time": "2023-06-19T04:20:39.076050Z",
     "start_time": "2023-06-19T04:20:39.063021Z"
    }
   },
   "outputs": [],
   "source": [
    "# 문화, 오락 비용 개별 컬럼 제거, 문화+오락 컬럼 사용\n",
    "df_2017 = df_2017.drop(['mtzq19a6','mtzq19a8'], axis=1)\n",
    "df_2017.rename(columns={'mtzq19a6+8':'mtzq19a6'},inplace=True)"
   ]
  },
  {
   "cell_type": "code",
   "execution_count": 21,
   "id": "2921f045",
   "metadata": {
    "ExecuteTime": {
     "end_time": "2023-06-19T04:20:39.375448Z",
     "start_time": "2023-06-19T04:20:39.079041Z"
    }
   },
   "outputs": [
    {
     "data": {
      "text/html": [
       "<div>\n",
       "<style scoped>\n",
       "    .dataframe tbody tr th:only-of-type {\n",
       "        vertical-align: middle;\n",
       "    }\n",
       "\n",
       "    .dataframe tbody tr th {\n",
       "        vertical-align: top;\n",
       "    }\n",
       "\n",
       "    .dataframe thead th {\n",
       "        text-align: right;\n",
       "    }\n",
       "</style>\n",
       "<table border=\"1\" class=\"dataframe\">\n",
       "  <thead>\n",
       "    <tr style=\"text-align: right;\">\n",
       "      <th></th>\n",
       "      <th>Q1</th>\n",
       "      <th>Q2A1</th>\n",
       "      <th>Q2A2</th>\n",
       "      <th>Q2A3</th>\n",
       "      <th>Q2A4</th>\n",
       "      <th>Q2A5</th>\n",
       "      <th>Q5_2A1</th>\n",
       "      <th>Q5_2A2</th>\n",
       "      <th>Q5_2A3</th>\n",
       "      <th>Q9_2A1</th>\n",
       "      <th>...</th>\n",
       "      <th>Q10_1B9</th>\n",
       "      <th>Q10_1B10</th>\n",
       "      <th>Q10_1B11</th>\n",
       "      <th>Q10_1B12</th>\n",
       "      <th>Q10_1B13</th>\n",
       "      <th>Q10_1B14</th>\n",
       "      <th>Q10_1B15</th>\n",
       "      <th>Q10_1B16</th>\n",
       "      <th>Q10_1B17</th>\n",
       "      <th>CQ14_2_7</th>\n",
       "    </tr>\n",
       "  </thead>\n",
       "  <tbody>\n",
       "    <tr>\n",
       "      <th>0</th>\n",
       "      <td>1.0</td>\n",
       "      <td>NaN</td>\n",
       "      <td>NaN</td>\n",
       "      <td>3.0</td>\n",
       "      <td>NaN</td>\n",
       "      <td>NaN</td>\n",
       "      <td>NaN</td>\n",
       "      <td>NaN</td>\n",
       "      <td>NaN</td>\n",
       "      <td>5</td>\n",
       "      <td>...</td>\n",
       "      <td>NaN</td>\n",
       "      <td>NaN</td>\n",
       "      <td>NaN</td>\n",
       "      <td>NaN</td>\n",
       "      <td>NaN</td>\n",
       "      <td>NaN</td>\n",
       "      <td>NaN</td>\n",
       "      <td>NaN</td>\n",
       "      <td>NaN</td>\n",
       "      <td>1.0</td>\n",
       "    </tr>\n",
       "    <tr>\n",
       "      <th>1</th>\n",
       "      <td>18.0</td>\n",
       "      <td>NaN</td>\n",
       "      <td>2.0</td>\n",
       "      <td>NaN</td>\n",
       "      <td>NaN</td>\n",
       "      <td>NaN</td>\n",
       "      <td>3.0</td>\n",
       "      <td>4.0</td>\n",
       "      <td>2.0</td>\n",
       "      <td>3</td>\n",
       "      <td>...</td>\n",
       "      <td>NaN</td>\n",
       "      <td>NaN</td>\n",
       "      <td>NaN</td>\n",
       "      <td>NaN</td>\n",
       "      <td>NaN</td>\n",
       "      <td>NaN</td>\n",
       "      <td>NaN</td>\n",
       "      <td>NaN</td>\n",
       "      <td>16.0</td>\n",
       "      <td>1.0</td>\n",
       "    </tr>\n",
       "    <tr>\n",
       "      <th>2</th>\n",
       "      <td>1.0</td>\n",
       "      <td>1.0</td>\n",
       "      <td>NaN</td>\n",
       "      <td>NaN</td>\n",
       "      <td>NaN</td>\n",
       "      <td>NaN</td>\n",
       "      <td>NaN</td>\n",
       "      <td>NaN</td>\n",
       "      <td>NaN</td>\n",
       "      <td>8</td>\n",
       "      <td>...</td>\n",
       "      <td>NaN</td>\n",
       "      <td>NaN</td>\n",
       "      <td>3.0</td>\n",
       "      <td>NaN</td>\n",
       "      <td>2.0</td>\n",
       "      <td>NaN</td>\n",
       "      <td>NaN</td>\n",
       "      <td>NaN</td>\n",
       "      <td>NaN</td>\n",
       "      <td>1.0</td>\n",
       "    </tr>\n",
       "    <tr>\n",
       "      <th>3</th>\n",
       "      <td>2.0</td>\n",
       "      <td>1.0</td>\n",
       "      <td>NaN</td>\n",
       "      <td>NaN</td>\n",
       "      <td>NaN</td>\n",
       "      <td>NaN</td>\n",
       "      <td>NaN</td>\n",
       "      <td>NaN</td>\n",
       "      <td>NaN</td>\n",
       "      <td>4</td>\n",
       "      <td>...</td>\n",
       "      <td>NaN</td>\n",
       "      <td>NaN</td>\n",
       "      <td>3.0</td>\n",
       "      <td>NaN</td>\n",
       "      <td>NaN</td>\n",
       "      <td>NaN</td>\n",
       "      <td>NaN</td>\n",
       "      <td>NaN</td>\n",
       "      <td>NaN</td>\n",
       "      <td>3.0</td>\n",
       "    </tr>\n",
       "    <tr>\n",
       "      <th>4</th>\n",
       "      <td>1.0</td>\n",
       "      <td>1.0</td>\n",
       "      <td>NaN</td>\n",
       "      <td>NaN</td>\n",
       "      <td>NaN</td>\n",
       "      <td>NaN</td>\n",
       "      <td>4.0</td>\n",
       "      <td>NaN</td>\n",
       "      <td>NaN</td>\n",
       "      <td>4</td>\n",
       "      <td>...</td>\n",
       "      <td>NaN</td>\n",
       "      <td>NaN</td>\n",
       "      <td>NaN</td>\n",
       "      <td>NaN</td>\n",
       "      <td>NaN</td>\n",
       "      <td>NaN</td>\n",
       "      <td>NaN</td>\n",
       "      <td>NaN</td>\n",
       "      <td>NaN</td>\n",
       "      <td>4.0</td>\n",
       "    </tr>\n",
       "    <tr>\n",
       "      <th>...</th>\n",
       "      <td>...</td>\n",
       "      <td>...</td>\n",
       "      <td>...</td>\n",
       "      <td>...</td>\n",
       "      <td>...</td>\n",
       "      <td>...</td>\n",
       "      <td>...</td>\n",
       "      <td>...</td>\n",
       "      <td>...</td>\n",
       "      <td>...</td>\n",
       "      <td>...</td>\n",
       "      <td>...</td>\n",
       "      <td>...</td>\n",
       "      <td>...</td>\n",
       "      <td>...</td>\n",
       "      <td>...</td>\n",
       "      <td>...</td>\n",
       "      <td>...</td>\n",
       "      <td>...</td>\n",
       "      <td>...</td>\n",
       "      <td>...</td>\n",
       "    </tr>\n",
       "    <tr>\n",
       "      <th>13819</th>\n",
       "      <td>1.0</td>\n",
       "      <td>NaN</td>\n",
       "      <td>NaN</td>\n",
       "      <td>3.0</td>\n",
       "      <td>NaN</td>\n",
       "      <td>NaN</td>\n",
       "      <td>12.0</td>\n",
       "      <td>3.0</td>\n",
       "      <td>13.0</td>\n",
       "      <td>1</td>\n",
       "      <td>...</td>\n",
       "      <td>NaN</td>\n",
       "      <td>NaN</td>\n",
       "      <td>NaN</td>\n",
       "      <td>NaN</td>\n",
       "      <td>2.0</td>\n",
       "      <td>NaN</td>\n",
       "      <td>NaN</td>\n",
       "      <td>NaN</td>\n",
       "      <td>NaN</td>\n",
       "      <td>1.0</td>\n",
       "    </tr>\n",
       "    <tr>\n",
       "      <th>13820</th>\n",
       "      <td>1.0</td>\n",
       "      <td>NaN</td>\n",
       "      <td>NaN</td>\n",
       "      <td>3.0</td>\n",
       "      <td>NaN</td>\n",
       "      <td>NaN</td>\n",
       "      <td>3.0</td>\n",
       "      <td>2.0</td>\n",
       "      <td>4.0</td>\n",
       "      <td>1</td>\n",
       "      <td>...</td>\n",
       "      <td>NaN</td>\n",
       "      <td>15.0</td>\n",
       "      <td>NaN</td>\n",
       "      <td>NaN</td>\n",
       "      <td>2.0</td>\n",
       "      <td>NaN</td>\n",
       "      <td>NaN</td>\n",
       "      <td>NaN</td>\n",
       "      <td>NaN</td>\n",
       "      <td>1.0</td>\n",
       "    </tr>\n",
       "    <tr>\n",
       "      <th>13821</th>\n",
       "      <td>3.0</td>\n",
       "      <td>NaN</td>\n",
       "      <td>NaN</td>\n",
       "      <td>3.0</td>\n",
       "      <td>NaN</td>\n",
       "      <td>NaN</td>\n",
       "      <td>7.0</td>\n",
       "      <td>3.0</td>\n",
       "      <td>2.0</td>\n",
       "      <td>3</td>\n",
       "      <td>...</td>\n",
       "      <td>NaN</td>\n",
       "      <td>NaN</td>\n",
       "      <td>NaN</td>\n",
       "      <td>NaN</td>\n",
       "      <td>2.0</td>\n",
       "      <td>NaN</td>\n",
       "      <td>NaN</td>\n",
       "      <td>NaN</td>\n",
       "      <td>NaN</td>\n",
       "      <td>1.0</td>\n",
       "    </tr>\n",
       "    <tr>\n",
       "      <th>13822</th>\n",
       "      <td>1.0</td>\n",
       "      <td>NaN</td>\n",
       "      <td>NaN</td>\n",
       "      <td>3.0</td>\n",
       "      <td>NaN</td>\n",
       "      <td>NaN</td>\n",
       "      <td>4.0</td>\n",
       "      <td>2.0</td>\n",
       "      <td>3.0</td>\n",
       "      <td>1</td>\n",
       "      <td>...</td>\n",
       "      <td>NaN</td>\n",
       "      <td>15.0</td>\n",
       "      <td>NaN</td>\n",
       "      <td>NaN</td>\n",
       "      <td>2.0</td>\n",
       "      <td>NaN</td>\n",
       "      <td>NaN</td>\n",
       "      <td>NaN</td>\n",
       "      <td>NaN</td>\n",
       "      <td>1.0</td>\n",
       "    </tr>\n",
       "    <tr>\n",
       "      <th>13823</th>\n",
       "      <td>1.0</td>\n",
       "      <td>NaN</td>\n",
       "      <td>NaN</td>\n",
       "      <td>3.0</td>\n",
       "      <td>NaN</td>\n",
       "      <td>NaN</td>\n",
       "      <td>3.0</td>\n",
       "      <td>13.0</td>\n",
       "      <td>13.0</td>\n",
       "      <td>8</td>\n",
       "      <td>...</td>\n",
       "      <td>NaN</td>\n",
       "      <td>NaN</td>\n",
       "      <td>NaN</td>\n",
       "      <td>NaN</td>\n",
       "      <td>2.0</td>\n",
       "      <td>NaN</td>\n",
       "      <td>NaN</td>\n",
       "      <td>NaN</td>\n",
       "      <td>NaN</td>\n",
       "      <td>1.0</td>\n",
       "    </tr>\n",
       "  </tbody>\n",
       "</table>\n",
       "<p>13824 rows × 58 columns</p>\n",
       "</div>"
      ],
      "text/plain": [
       "         Q1  Q2A1  Q2A2  Q2A3  Q2A4  Q2A5  Q5_2A1  Q5_2A2  Q5_2A3 Q9_2A1  ...  \\\n",
       "0       1.0   NaN   NaN   3.0   NaN   NaN     NaN     NaN     NaN      5  ...   \n",
       "1      18.0   NaN   2.0   NaN   NaN   NaN     3.0     4.0     2.0      3  ...   \n",
       "2       1.0   1.0   NaN   NaN   NaN   NaN     NaN     NaN     NaN      8  ...   \n",
       "3       2.0   1.0   NaN   NaN   NaN   NaN     NaN     NaN     NaN      4  ...   \n",
       "4       1.0   1.0   NaN   NaN   NaN   NaN     4.0     NaN     NaN      4  ...   \n",
       "...     ...   ...   ...   ...   ...   ...     ...     ...     ...    ...  ...   \n",
       "13819   1.0   NaN   NaN   3.0   NaN   NaN    12.0     3.0    13.0      1  ...   \n",
       "13820   1.0   NaN   NaN   3.0   NaN   NaN     3.0     2.0     4.0      1  ...   \n",
       "13821   3.0   NaN   NaN   3.0   NaN   NaN     7.0     3.0     2.0      3  ...   \n",
       "13822   1.0   NaN   NaN   3.0   NaN   NaN     4.0     2.0     3.0      1  ...   \n",
       "13823   1.0   NaN   NaN   3.0   NaN   NaN     3.0    13.0    13.0      8  ...   \n",
       "\n",
       "      Q10_1B9 Q10_1B10 Q10_1B11 Q10_1B12 Q10_1B13  Q10_1B14  Q10_1B15  \\\n",
       "0         NaN      NaN      NaN      NaN      NaN       NaN       NaN   \n",
       "1         NaN      NaN      NaN      NaN      NaN       NaN       NaN   \n",
       "2         NaN      NaN      3.0      NaN      2.0       NaN       NaN   \n",
       "3         NaN      NaN      3.0      NaN      NaN       NaN       NaN   \n",
       "4         NaN      NaN      NaN      NaN      NaN       NaN       NaN   \n",
       "...       ...      ...      ...      ...      ...       ...       ...   \n",
       "13819     NaN      NaN      NaN      NaN      2.0       NaN       NaN   \n",
       "13820     NaN     15.0      NaN      NaN      2.0       NaN       NaN   \n",
       "13821     NaN      NaN      NaN      NaN      2.0       NaN       NaN   \n",
       "13822     NaN     15.0      NaN      NaN      2.0       NaN       NaN   \n",
       "13823     NaN      NaN      NaN      NaN      2.0       NaN       NaN   \n",
       "\n",
       "       Q10_1B16  Q10_1B17  CQ14_2_7  \n",
       "0           NaN       NaN       1.0  \n",
       "1           NaN      16.0       1.0  \n",
       "2           NaN       NaN       1.0  \n",
       "3           NaN       NaN       3.0  \n",
       "4           NaN       NaN       4.0  \n",
       "...         ...       ...       ...  \n",
       "13819       NaN       NaN       1.0  \n",
       "13820       NaN       NaN       1.0  \n",
       "13821       NaN       NaN       1.0  \n",
       "13822       NaN       NaN       1.0  \n",
       "13823       NaN       NaN       1.0  \n",
       "\n",
       "[13824 rows x 58 columns]"
      ]
     },
     "execution_count": 21,
     "metadata": {},
     "output_type": "execute_result"
    }
   ],
   "source": [
    "# 19년도와 컬럼명 동기화\n",
    "file_path = \"./데이터_변수정리_찐최종본.xlsx\"\n",
    "df17_val = pd.read_excel(file_path,\\\n",
    "usecols = 'A : B', sheet_name = '변수명매칭')\n",
    "\n",
    "for i in range(58) :\n",
    "    df_2017 = df_2017.rename(columns={df17_val.loc[i, '17변수명']: df17_val.loc[i, '19변수명']})\n",
    "df_2017"
   ]
  },
  {
   "cell_type": "code",
   "execution_count": 22,
   "id": "4919cbc2",
   "metadata": {
    "ExecuteTime": {
     "end_time": "2023-06-19T04:20:40.611314Z",
     "start_time": "2023-06-19T04:20:39.377403Z"
    }
   },
   "outputs": [
    {
     "data": {
      "text/plain": [
       "0        2017-03\n",
       "1        2017-11\n",
       "2        2017-06\n",
       "3        2017-02\n",
       "4        2017-08\n",
       "          ...   \n",
       "13819    2017-12\n",
       "13820    2017-12\n",
       "13821    2017-12\n",
       "13822    2017-12\n",
       "13823    2017-12\n",
       "Name: D_YEAR, Length: 13824, dtype: object"
      ]
     },
     "execution_count": 22,
     "metadata": {},
     "output_type": "execute_result"
    }
   ],
   "source": [
    "# 월이 들어간 컬럼을 사용해 년-월 컬럼 생성\n",
    "for i in range(len(df_2017)) :\n",
    "    df_2017.loc[i,\"D_YEAR\"] = \"2017-{}\".format(str(int(df_2017[\"D_MON\"][i])).zfill(2))\n",
    "df_2017[\"D_YEAR\"]"
   ]
  },
  {
   "cell_type": "code",
   "execution_count": 23,
   "id": "d359127a",
   "metadata": {
    "ExecuteTime": {
     "end_time": "2023-06-19T04:20:40.626468Z",
     "start_time": "2023-06-19T04:20:40.613266Z"
    }
   },
   "outputs": [],
   "source": [
    "# 방문 지역부분 변수명을 19년도에 맞춰 변경\n",
    "dic1={}\n",
    "w_list = [1,4,8,9,6,10,11,17,14,15,3,7,2,5,12,13,16]\n",
    "for i in range(1,18) :\n",
    "    dic1[\"Q10_1B{}\".format(i)]=\"Q10_1B{}\".format(w_list[i-1])\n",
    "\n",
    "df_2017.rename(columns = dic1,inplace=True)"
   ]
  },
  {
   "cell_type": "code",
   "execution_count": 24,
   "id": "2a9f018f",
   "metadata": {
    "ExecuteTime": {
     "end_time": "2023-06-19T04:20:40.641492Z",
     "start_time": "2023-06-19T04:20:40.629509Z"
    }
   },
   "outputs": [
    {
     "data": {
      "text/plain": [
       "array([0., 3., 1., 2., 4., 5.])"
      ]
     },
     "execution_count": 24,
     "metadata": {},
     "output_type": "execute_result"
    }
   ],
   "source": [
    "df_2017[\"D_AGE\"].unique()"
   ]
  },
  {
   "cell_type": "code",
   "execution_count": 27,
   "id": "a8ba5d0b",
   "metadata": {
    "ExecuteTime": {
     "end_time": "2023-06-19T04:21:52.938244Z",
     "start_time": "2023-06-19T04:21:52.924104Z"
    }
   },
   "outputs": [
    {
     "data": {
      "text/plain": [
       "D_AGE\n",
       "1.0    5473\n",
       "2.0    3511\n",
       "3.0    2212\n",
       "4.0    1253\n",
       "0.0     933\n",
       "5.0     442\n",
       "Name: count, dtype: int64"
      ]
     },
     "execution_count": 27,
     "metadata": {},
     "output_type": "execute_result"
    }
   ],
   "source": [
    "df_2017['D_AGE'].value_counts()"
   ]
  },
  {
   "cell_type": "code",
   "execution_count": 28,
   "id": "46efff63",
   "metadata": {
    "ExecuteTime": {
     "end_time": "2023-06-19T04:22:14.182464Z",
     "start_time": "2023-06-19T04:22:14.175494Z"
    }
   },
   "outputs": [],
   "source": [
    "# 나이의 범주(0~5)를 19년도처럼 변경(1~6)\n",
    "df_2017[\"D_AGE\"] = df_2017[\"D_AGE\"]+1"
   ]
  },
  {
   "cell_type": "code",
   "execution_count": 29,
   "id": "8131e9bf",
   "metadata": {
    "ExecuteTime": {
     "end_time": "2023-06-19T04:22:15.984006Z",
     "start_time": "2023-06-19T04:22:15.972015Z"
    }
   },
   "outputs": [
    {
     "data": {
      "text/plain": [
       "D_AGE\n",
       "2.0    5473\n",
       "3.0    3511\n",
       "4.0    2212\n",
       "5.0    1253\n",
       "1.0     933\n",
       "6.0     442\n",
       "Name: count, dtype: int64"
      ]
     },
     "execution_count": 29,
     "metadata": {},
     "output_type": "execute_result"
    }
   ],
   "source": [
    "df_2017['D_AGE'].value_counts()"
   ]
  },
  {
   "cell_type": "code",
   "execution_count": 30,
   "id": "fc1cefed",
   "metadata": {
    "ExecuteTime": {
     "end_time": "2023-06-19T04:22:23.282306Z",
     "start_time": "2023-06-19T04:22:22.952511Z"
    }
   },
   "outputs": [],
   "source": [
    "# 수정 후 저장\n",
    "df_2017.to_csv(\"./2017년_변수정리.csv\",index=False)"
   ]
  },
  {
   "cell_type": "code",
   "execution_count": null,
   "id": "4cc5e67f",
   "metadata": {},
   "outputs": [],
   "source": []
  }
 ],
 "metadata": {
  "kernelspec": {
   "display_name": "busan_env_kernel",
   "language": "python",
   "name": "busan_env"
  },
  "language_info": {
   "codemirror_mode": {
    "name": "ipython",
    "version": 3
   },
   "file_extension": ".py",
   "mimetype": "text/x-python",
   "name": "python",
   "nbconvert_exporter": "python",
   "pygments_lexer": "ipython3",
   "version": "3.9.16"
  },
  "toc": {
   "base_numbering": 1,
   "nav_menu": {},
   "number_sections": true,
   "sideBar": true,
   "skip_h1_title": false,
   "title_cell": "Table of Contents",
   "title_sidebar": "Contents",
   "toc_cell": false,
   "toc_position": {},
   "toc_section_display": true,
   "toc_window_display": false
  }
 },
 "nbformat": 4,
 "nbformat_minor": 5
}
